{
 "cells": [
  {
   "cell_type": "markdown",
   "metadata": {},
   "source": [
    "# ARIMA model for predict today's tesla stock price (yejin)\n",
    "\n",
    "- reference \n",
    "\n",
    ": https://www.youtube.com/watch?v=rsva2qmhGyE (Predict Stock Price using ARIMA model (Python))\n",
    "\n",
    ": https://www.youtube.com/watch?v=gqryqIlvEoM (How to Choose the p, d, q Terms to Build ARIMA Model)\n",
    "\n",
    "- Python(pyenv 3.11.11)"
   ]
  },
  {
   "cell_type": "code",
   "execution_count": 1,
   "metadata": {},
   "outputs": [],
   "source": [
    "import pandas as pd\n",
    "import numpy as np\n",
    "import matplotlib.pyplot as plt\n",
    "import yfinance as yf\n",
    "from statsmodels.graphics.tsaplots import plot_acf, plot_pacf, acf, pacf\n",
    "from statsmodels.tsa.arima.model import ARIMA\n",
    "from time import time\n",
    "import datetime\n",
    "import warnings\n",
    "\n",
    "warnings.filterwarnings(\"ignore\")"
   ]
  },
  {
   "cell_type": "markdown",
   "metadata": {},
   "source": [
    "# 1. Fetch the data"
   ]
  },
  {
   "cell_type": "code",
   "execution_count": 2,
   "metadata": {},
   "outputs": [
    {
     "data": {
      "text/plain": [
       "yfinance.Ticker object <TSLA>"
      ]
     },
     "execution_count": 2,
     "metadata": {},
     "output_type": "execute_result"
    }
   ],
   "source": [
    "#import tesla data\n",
    "ticker = 'TSLA'\n",
    "data = yf.Ticker(ticker)\n",
    "data"
   ]
  },
  {
   "cell_type": "code",
   "execution_count": 3,
   "metadata": {},
   "outputs": [],
   "source": [
    "end_date = datetime.date.today()\n",
    "start_date = end_date - datetime.timedelta(days=730)\n",
    "tomorrow = end_date + datetime.timedelta(days=1)\n",
    "prices = data.history(start=start_date,end=end_date).Close\n",
    "# prices"
   ]
  },
  {
   "cell_type": "code",
   "execution_count": 4,
   "metadata": {},
   "outputs": [
    {
     "name": "stdout",
     "output_type": "stream",
     "text": [
      "2025-03-27\n",
      "2025-03-28\n"
     ]
    }
   ],
   "source": [
    "print(end_date)\n",
    "print(tomorrow)"
   ]
  },
  {
   "cell_type": "markdown",
   "metadata": {},
   "source": [
    "# Stationary \n",
    "\n",
    "### ADF test (Augumented Dickey Fuller test) to check if the price series is stationary. \n",
    "\n",
    "Null hypothesis of the ADF test : time series is non-stationary.\n",
    "So, if the p-value of the test is less than the significance level(0.05) then we can reject the null hypothesis and fer that time series is indeed stationary. "
   ]
  },
  {
   "cell_type": "code",
   "execution_count": 5,
   "metadata": {},
   "outputs": [
    {
     "name": "stdout",
     "output_type": "stream",
     "text": [
      "ADF Statistic: -1.6520641531781293\n",
      "p-value: 0.4559641310670286\n"
     ]
    }
   ],
   "source": [
    "#check if price series is stationary \n",
    "from statsmodels.tsa.stattools import adfuller\n",
    "\n",
    "result = adfuller(prices.dropna())\n",
    "print(f\"ADF Statistic: {result[0]}\")\n",
    "print(f\"p-value: {result[1]}\")\n"
   ]
  },
  {
   "cell_type": "markdown",
   "metadata": {},
   "source": [
    "### interpretation : p-value is clearly high, it means this time series is non stationary.\n",
    "in our case, the p-value > 0.05 we'll need fo find the order of differencing."
   ]
  },
  {
   "cell_type": "markdown",
   "metadata": {},
   "source": [
    "# 2. Split train and test data"
   ]
  },
  {
   "cell_type": "code",
   "execution_count": 6,
   "metadata": {},
   "outputs": [],
   "source": [
    "train = data.history(start='2023-01-01',end='2024-12-31')\n",
    "test = data.history(start='2025-01-01',end='2025-12-31')"
   ]
  },
  {
   "cell_type": "markdown",
   "metadata": {},
   "source": [
    "# 3. Find the (p,d,q) order based on auto_arima"
   ]
  },
  {
   "cell_type": "code",
   "execution_count": 7,
   "metadata": {},
   "outputs": [
    {
     "name": "stdout",
     "output_type": "stream",
     "text": [
      "Performing stepwise search to minimize aic\n",
      " ARIMA(1,1,1)(1,0,1)[12] intercept   : AIC=3576.527, Time=0.77 sec\n",
      " ARIMA(0,1,0)(0,0,0)[12] intercept   : AIC=3573.902, Time=0.01 sec\n",
      " ARIMA(1,1,0)(1,0,0)[12] intercept   : AIC=3577.050, Time=0.10 sec\n",
      " ARIMA(0,1,1)(0,0,1)[12] intercept   : AIC=3577.042, Time=0.29 sec\n",
      " ARIMA(0,1,0)(0,0,0)[12]             : AIC=3574.487, Time=0.01 sec\n",
      " ARIMA(0,1,0)(1,0,0)[12] intercept   : AIC=3575.788, Time=0.07 sec\n",
      " ARIMA(0,1,0)(0,0,1)[12] intercept   : AIC=3575.802, Time=0.10 sec\n",
      " ARIMA(0,1,0)(1,0,1)[12] intercept   : AIC=3573.087, Time=0.37 sec\n",
      " ARIMA(0,1,0)(2,0,1)[12] intercept   : AIC=3573.783, Time=0.77 sec\n",
      " ARIMA(0,1,0)(1,0,2)[12] intercept   : AIC=3576.661, Time=0.67 sec\n",
      " ARIMA(0,1,0)(0,0,2)[12] intercept   : AIC=3575.725, Time=0.49 sec\n",
      " ARIMA(0,1,0)(2,0,0)[12] intercept   : AIC=3575.561, Time=0.24 sec\n",
      " ARIMA(0,1,0)(2,0,2)[12] intercept   : AIC=3574.769, Time=0.70 sec\n",
      " ARIMA(1,1,0)(1,0,1)[12] intercept   : AIC=3574.527, Time=0.54 sec\n",
      " ARIMA(0,1,1)(1,0,1)[12] intercept   : AIC=3574.529, Time=0.40 sec\n",
      " ARIMA(0,1,0)(1,0,1)[12]             : AIC=3572.857, Time=0.23 sec\n",
      " ARIMA(0,1,0)(0,0,1)[12]             : AIC=3576.307, Time=0.04 sec\n",
      " ARIMA(0,1,0)(1,0,0)[12]             : AIC=3576.280, Time=0.03 sec\n",
      " ARIMA(0,1,0)(2,0,1)[12]             : AIC=3573.642, Time=0.48 sec\n",
      " ARIMA(0,1,0)(1,0,2)[12]             : AIC=3577.031, Time=0.40 sec\n",
      " ARIMA(0,1,0)(0,0,2)[12]             : AIC=3576.034, Time=0.17 sec\n",
      " ARIMA(0,1,0)(2,0,0)[12]             : AIC=3575.868, Time=0.12 sec\n",
      " ARIMA(0,1,0)(2,0,2)[12]             : AIC=3574.615, Time=0.65 sec\n",
      " ARIMA(1,1,0)(1,0,1)[12]             : AIC=3574.182, Time=0.21 sec\n",
      " ARIMA(0,1,1)(1,0,1)[12]             : AIC=3574.192, Time=0.21 sec\n",
      " ARIMA(1,1,1)(1,0,1)[12]             : AIC=3576.173, Time=0.27 sec\n",
      "\n",
      "Best model:  ARIMA(0,1,0)(1,0,1)[12]          \n",
      "Total fit time: 8.367 seconds\n"
     ]
    }
   ],
   "source": [
    "from pmdarima import auto_arima\n",
    "\n",
    "stepwise_fit = auto_arima(train['Close'],\n",
    "                          start_p=1, start_q=1,\n",
    "                          max_p=5, max_q=5,\n",
    "                          d=1,\n",
    "                          seasonal=True,\n",
    "                          m=12,  # 월별 주기면 12\n",
    "                          trace=True,\n",
    "                          stepwise=True)"
   ]
  },
  {
   "cell_type": "markdown",
   "metadata": {},
   "source": [
    "### Best model:  ARIMA(0,1,0)(1,0,1)"
   ]
  },
  {
   "cell_type": "code",
   "execution_count": 8,
   "metadata": {},
   "outputs": [],
   "source": [
    "model = ARIMA(train['Close'], order=(1,0,1))\n",
    "fitted = model.fit()\n",
    "fitted.summary()\n",
    "\n",
    "forecast = fitted.get_forecast(steps=len(test))\n",
    "forecast_mean = forecast.predicted_mean\n",
    "forecast_mean.index = test.index"
   ]
  },
  {
   "cell_type": "code",
   "execution_count": 9,
   "metadata": {},
   "outputs": [
    {
     "data": {
      "image/png": "[encoded data removed]",
      "text/plain": [
       "<Figure size 1200x300 with 1 Axes>"
      ]
     },
     "metadata": {},
     "output_type": "display_data"
    }
   ],
   "source": [
    "# test 길이만큼 미래 예측\n",
    "n_periods = len(test)\n",
    "forecast = fitted.get_forecast(steps=n_periods)\n",
    "forecast_mean = forecast.predicted_mean\n",
    "\n",
    "# 예측값 인덱스를 실제 2025년 날짜로 맞춰주기\n",
    "forecast_mean.index = test.index\n",
    "\n",
    "import matplotlib.pyplot as plt\n",
    "\n",
    "plt.figure(figsize=(12, 3)) \n",
    "plt.plot(train.index, train['Close'], label='Train')\n",
    "plt.plot(test.index, test['Close'], label='Test')\n",
    "plt.plot(test.index, forecast_mean, label='Forecast')\n",
    "\n",
    "plt.xlim(pd.to_datetime('2023-01-01'), test.index[-1])\n",
    "plt.legend()\n",
    "plt.title(\"ARIMA Forecast (2025)\")\n",
    "plt.grid(True)\n",
    "plt.show()"
   ]
  },
  {
   "cell_type": "markdown",
   "metadata": {},
   "source": [
    "# Performance evaluation"
   ]
  },
  {
   "cell_type": "code",
   "execution_count": 10,
   "metadata": {},
   "outputs": [
    {
     "name": "stdout",
     "output_type": "stream",
     "text": [
      "ARIMA Model Evaluation:\n",
      "MAE:  63.93\n",
      "MSE:  6925.83\n",
      "RMSE: 83.22\n"
     ]
    }
   ],
   "source": [
    "from sklearn.metrics import mean_absolute_error, mean_squared_error\n",
    "\n",
    "y_true = test['Close']\n",
    "y_pred = forecast_mean\n",
    "\n",
    "# MAE\n",
    "mae = mean_absolute_error(y_true, y_pred)\n",
    "\n",
    "# MSE\n",
    "mse = mean_squared_error(y_true, y_pred)\n",
    "\n",
    "# RMSE\n",
    "rmse = np.sqrt(mse)\n",
    "\n",
    "print(f\"ARIMA Model Evaluation:\")\n",
    "print(f\"MAE:  {mae:.2f}\")\n",
    "print(f\"MSE:  {mse:.2f}\")\n",
    "print(f\"RMSE: {rmse:.2f}\")\n"
   ]
  },
  {
   "cell_type": "code",
   "execution_count": 11,
   "metadata": {},
   "outputs": [
    {
     "data": {
      "text/html": [
       "<div>\n",
       "<style scoped>\n",
       "    .dataframe tbody tr th:only-of-type {\n",
       "        vertical-align: middle;\n",
       "    }\n",
       "\n",
       "    .dataframe tbody tr th {\n",
       "        vertical-align: top;\n",
       "    }\n",
       "\n",
       "    .dataframe thead th {\n",
       "        text-align: right;\n",
       "    }\n",
       "</style>\n",
       "<table border=\"1\" class=\"dataframe\">\n",
       "  <thead>\n",
       "    <tr style=\"text-align: right;\">\n",
       "      <th></th>\n",
       "      <th>MAE</th>\n",
       "      <th>MSE</th>\n",
       "      <th>RMSE</th>\n",
       "    </tr>\n",
       "  </thead>\n",
       "  <tbody>\n",
       "    <tr>\n",
       "      <th>ARIMA</th>\n",
       "      <td>63.930755</td>\n",
       "      <td>6925.833442</td>\n",
       "      <td>83.221592</td>\n",
       "    </tr>\n",
       "  </tbody>\n",
       "</table>\n",
       "</div>"
      ],
      "text/plain": [
       "             MAE          MSE       RMSE\n",
       "ARIMA  63.930755  6925.833442  83.221592"
      ]
     },
     "execution_count": 11,
     "metadata": {},
     "output_type": "execute_result"
    }
   ],
   "source": [
    "# create empty pandas dataframe \n",
    "\n",
    "matrix = pd.DataFrame(columns=['MAE','MSE','RMSE'])\n",
    "\n",
    "# fill out the matrix with the results of the ARIMA model\n",
    "matrix.loc['ARIMA'] = [mae,mse,rmse]\n",
    "\n",
    "matrix\n",
    "\n"
   ]
  },
  {
   "cell_type": "code",
   "execution_count": 12,
   "metadata": {},
   "outputs": [],
   "source": [
    "import pickle\n",
    "\n",
    "# save matrix to pickle file\n",
    "with open(\"results_matrix.pkl\", \"wb\") as f:\n",
    "    pickle.dump(matrix, f)"
   ]
  },
  {
   "cell_type": "code",
   "execution_count": 13,
   "metadata": {},
   "outputs": [
    {
     "name": "stdout",
     "output_type": "stream",
     "text": [
      "501    416.111047\n",
      "502    415.407890\n",
      "503    414.707304\n",
      "504    414.009280\n",
      "505    413.313810\n",
      "          ...    \n",
      "596    359.594015\n",
      "597    359.097551\n",
      "598    358.602902\n",
      "599    358.110063\n",
      "600    357.619025\n",
      "Name: predicted_mean, Length: 100, dtype: float64\n"
     ]
    }
   ],
   "source": [
    "#prediction the next day price\n",
    "next_day_price = fitted.forecast(100,alpha=0.05) # next 100days prediction, 95% of confidence level \n",
    "print(next_day_price)"
   ]
  },
  {
   "cell_type": "code",
   "execution_count": 14,
   "metadata": {},
   "outputs": [
    {
     "name": "stdout",
     "output_type": "stream",
     "text": [
      "The predicted_price for 2025-03-28 tomorrow: 416.1110474108897\n"
     ]
    }
   ],
   "source": [
    "predicted_price= next_day_price.values[0]\n",
    "print(f\"The predicted_price for {tomorrow} tomorrow:\", predicted_price)"
   ]
  }
 ],
 "metadata": {
  "kernelspec": {
   "display_name": "Python (pyenv 3.11.11)",
   "language": "python",
   "name": "pyenv_3.11.11"
  },
  "language_info": {
   "codemirror_mode": {
    "name": "ipython",
    "version": 3
   },
   "file_extension": ".py",
   "mimetype": "text/x-python",
   "name": "python",
   "nbconvert_exporter": "python",
   "pygments_lexer": "ipython3",
   "version": "3.11.11"
  }
 },
 "nbformat": 4,
 "nbformat_minor": 2
}
